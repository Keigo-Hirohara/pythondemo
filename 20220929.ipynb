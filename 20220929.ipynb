{
 "cells": [
  {
   "cell_type": "code",
   "execution_count": 6,
   "id": "ea44365a",
   "metadata": {},
   "outputs": [],
   "source": [
    "import re"
   ]
  },
  {
   "cell_type": "code",
   "execution_count": 9,
   "id": "7c373074",
   "metadata": {},
   "outputs": [],
   "source": [
    "import matplotlib.pyplot as plt"
   ]
  },
  {
   "cell_type": "code",
   "execution_count": 10,
   "id": "17e7314c",
   "metadata": {},
   "outputs": [],
   "source": [
    "from collections import Counter"
   ]
  },
  {
   "cell_type": "code",
   "execution_count": 11,
   "id": "0051e5ae",
   "metadata": {},
   "outputs": [
    {
     "data": {
      "text/plain": [
       "6"
      ]
     },
     "execution_count": 11,
     "metadata": {},
     "output_type": "execute_result"
    }
   ],
   "source": [
    "def double(x):\n",
    "    y = x * 2\n",
    "    return y\n",
    "double(2)\n",
    "my_double=double\n",
    "my_double(3)"
   ]
  },
  {
   "cell_type": "code",
   "execution_count": 12,
   "id": "bc940e27",
   "metadata": {},
   "outputs": [
    {
     "name": "stdout",
     "output_type": "stream",
     "text": [
      "[1, 2, 3]\n"
     ]
    }
   ],
   "source": [
    "int_list=[1,2,3]\n",
    "print(int_list)"
   ]
  },
  {
   "cell_type": "code",
   "execution_count": 14,
   "id": "5fb944ce",
   "metadata": {},
   "outputs": [
    {
     "name": "stdout",
     "output_type": "stream",
     "text": [
      "['Toho', 2020, True]\n"
     ]
    }
   ],
   "source": [
    "hetero_list=['Toho',2020,True]\n",
    "print(hetero_list)"
   ]
  },
  {
   "cell_type": "code",
   "execution_count": 15,
   "id": "b3d00323",
   "metadata": {},
   "outputs": [
    {
     "name": "stdout",
     "output_type": "stream",
     "text": [
      "[1, 2]\n",
      "3\n",
      "3\n",
      "6\n"
     ]
    }
   ],
   "source": [
    "print(int_list[:2])\n",
    "print(int_list[-1])\n",
    "print(len(int_list))\n",
    "print(sum(int_list))"
   ]
  },
  {
   "cell_type": "code",
   "execution_count": 16,
   "id": "8c2fa363",
   "metadata": {},
   "outputs": [
    {
     "name": "stdout",
     "output_type": "stream",
     "text": [
      "[1, 2, 3, 4, 5, 6]\n",
      "None\n",
      "None\n"
     ]
    }
   ],
   "source": [
    "print(int_list+[4,5,6])\n",
    "print(int_list.append(4))\n",
    "print(int_list.extend([4,5]))\n",
    " "
   ]
  },
  {
   "cell_type": "code",
   "execution_count": 21,
   "id": "6da25633",
   "metadata": {},
   "outputs": [
    {
     "name": "stdout",
     "output_type": "stream",
     "text": [
      "(1, 'University')\n",
      "University\n",
      "[1, 'University']\n",
      "(1, 2, 3, 4, 4, 5)\n"
     ]
    },
    {
     "data": {
      "text/plain": [
       "(2, 1)"
      ]
     },
     "execution_count": 21,
     "metadata": {},
     "output_type": "execute_result"
    }
   ],
   "source": [
    "hetero_tuple=(1,'University')\n",
    "print(hetero_tuple)\n",
    "print(hetero_tuple[1])\n",
    "print(list(hetero_tuple))\n",
    "print(tuple(int_list))\n",
    "x,y=1,2\n",
    "x,y=y,x\n",
    "x,y"
   ]
  },
  {
   "cell_type": "code",
   "execution_count": 27,
   "id": "49c58a9c",
   "metadata": {},
   "outputs": [],
   "source": [
    "d1={'eggs':1, 'tomato':2, 'banana':3}\n",
    "d2={'food':d1}\n",
    "d1['eggs']\n",
    "d2['food']['eggs']\n",
    "'eggs' in d2['food']\n",
    "d1.keys()\n",
    "d1.values()\n",
    "d1.items()\n",
    "d3={}\n",
    "d3.update(d2)"
   ]
  },
  {
   "cell_type": "code",
   "execution_count": 30,
   "id": "7c4a879f",
   "metadata": {},
   "outputs": [
    {
     "data": {
      "text/plain": [
       "0"
      ]
     },
     "execution_count": 30,
     "metadata": {},
     "output_type": "execute_result"
    }
   ],
   "source": [
    "len(d1)\n",
    "d1['tomato']=4\n",
    "del d1['banana']\n",
    "d1.get('eggs',0)\n",
    "d1.get('ham',0)"
   ]
  },
  {
   "cell_type": "code",
   "execution_count": 31,
   "id": "45daf986",
   "metadata": {},
   "outputs": [],
   "source": [
    "x={1,2,3,4,5}\n",
    "y={2,4,6}\n",
    "x|y\n",
    "x&y\n",
    "x-y\n",
    "lx=list(x) #[x] lx.append(1) lx\n",
    "sx=set(lx)"
   ]
  },
  {
   "cell_type": "code",
   "execution_count": 34,
   "id": "e694861f",
   "metadata": {},
   "outputs": [
    {
     "name": "stdout",
     "output_type": "stream",
     "text": [
      "((123, 456, 789), (13, 0.45))\n"
     ]
    }
   ],
   "source": [
    "M=[[1,2,3],[4,5,6],[7,8,9]]\n",
    "M[1]\n",
    "M[1][2] #ここまではリストの入れ子\n",
    "col2=[row[1] for row in M]\n",
    "[row[1] + 1 for row in M]\n",
    "[row[1] for row in M if row[1] % 2 == 0]\n",
    "diag = [M[i][i] for i in [0,1,2]]\n",
    "doubles = [c * 2 for c in 'spam']\n",
    "t=(123, 456, 789)\n",
    "u = t, (13, 0.45)\n",
    "print(u)"
   ]
  },
  {
   "cell_type": "code",
   "execution_count": 38,
   "id": "7b422fb5",
   "metadata": {},
   "outputs": [
    {
     "name": "stdout",
     "output_type": "stream",
     "text": [
      "正の数\n"
     ]
    }
   ],
   "source": [
    "x=10\n",
    "if x < 0:\n",
    "    print(\"負の数\")\n",
    "elif x==0:\n",
    "    print(\"ゼロ\")\n",
    "else:\n",
    "    print(\"正の数\")"
   ]
  },
  {
   "cell_type": "code",
   "execution_count": 39,
   "id": "ffdeb146",
   "metadata": {},
   "outputs": [
    {
     "name": "stdout",
     "output_type": "stream",
     "text": [
      "0\n",
      "1\n",
      "2\n",
      "3\n",
      "4\n"
     ]
    }
   ],
   "source": [
    " for i in range(5):\n",
    "        print(i)"
   ]
  },
  {
   "cell_type": "code",
   "execution_count": 40,
   "id": "0a92ba30",
   "metadata": {},
   "outputs": [
    {
     "name": "stdout",
     "output_type": "stream",
     "text": [
      "1\n",
      "3\n",
      "5\n"
     ]
    }
   ],
   "source": [
    "li=[1,3,5]\n",
    "for i in li:\n",
    "    print(i)"
   ]
  },
  {
   "cell_type": "code",
   "execution_count": 42,
   "id": "c95de523",
   "metadata": {
    "scrolled": true
   },
   "outputs": [
    {
     "name": "stdout",
     "output_type": "stream",
     "text": [
      "egg 1\n",
      "tomato 2\n",
      "banana 3\n",
      "egg 1\n",
      "tomato 2\n",
      "banana 3\n"
     ]
    }
   ],
   "source": [
    "d={'egg':1, 'tomato':2, 'banana':3}\n",
    "for i in d.keys():\n",
    "    print(i, d[i])\n",
    "for k,v in d.items():\n",
    "    print(k, v)"
   ]
  },
  {
   "cell_type": "code",
   "execution_count": 43,
   "id": "a4613f87",
   "metadata": {},
   "outputs": [
    {
     "data": {
      "text/plain": [
       "[[2, 4], [4, 16], [6, 36]]"
      ]
     },
     "execution_count": 43,
     "metadata": {},
     "output_type": "execute_result"
    }
   ],
   "source": [
    "vec = [2, 4, 6]\n",
    "[[x, x**2] for x in vec]"
   ]
  },
  {
   "cell_type": "code",
   "execution_count": null,
   "id": "f1f832a1",
   "metadata": {},
   "outputs": [],
   "source": []
  },
  {
   "cell_type": "code",
   "execution_count": null,
   "id": "036a7c86",
   "metadata": {},
   "outputs": [],
   "source": []
  },
  {
   "cell_type": "code",
   "execution_count": null,
   "id": "b6bac1ea",
   "metadata": {},
   "outputs": [],
   "source": []
  },
  {
   "cell_type": "code",
   "execution_count": null,
   "id": "93e98183",
   "metadata": {},
   "outputs": [],
   "source": []
  },
  {
   "cell_type": "code",
   "execution_count": null,
   "id": "0b3b9819",
   "metadata": {},
   "outputs": [],
   "source": []
  },
  {
   "cell_type": "code",
   "execution_count": null,
   "id": "0a6506ab",
   "metadata": {},
   "outputs": [],
   "source": []
  },
  {
   "cell_type": "code",
   "execution_count": null,
   "id": "8c5db318",
   "metadata": {},
   "outputs": [],
   "source": []
  }
 ],
 "metadata": {
  "kernelspec": {
   "display_name": "Python 3 (ipykernel)",
   "language": "python",
   "name": "python3"
  },
  "language_info": {
   "codemirror_mode": {
    "name": "ipython",
    "version": 3
   },
   "file_extension": ".py",
   "mimetype": "text/x-python",
   "name": "python",
   "nbconvert_exporter": "python",
   "pygments_lexer": "ipython3",
   "version": "3.7.13"
  }
 },
 "nbformat": 4,
 "nbformat_minor": 5
}
