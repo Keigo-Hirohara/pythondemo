{
 "cells": [
  {
   "cell_type": "code",
   "execution_count": 1,
   "id": "85e3a776",
   "metadata": {},
   "outputs": [
    {
     "name": "stdout",
     "output_type": "stream",
     "text": [
      "data\n",
      "{}\n"
     ]
    }
   ],
   "source": [
    "import xml.etree.ElementTree as ET\n",
    "tree = ET.parse('sample.xml')\n",
    "root = tree.getroot()\n",
    "print(root.tag)\n",
    "print(root.attrib)"
   ]
  },
  {
   "cell_type": "code",
   "execution_count": 2,
   "id": "7b385d65",
   "metadata": {},
   "outputs": [
    {
     "name": "stdout",
     "output_type": "stream",
     "text": [
      "country\n",
      "{'name': 'Liechtenstein'}\n",
      "Liechtenstein\n",
      "-------------------\n",
      "country\n",
      "{'name': 'Singapore'}\n",
      "Singapore\n",
      "-------------------\n",
      "country\n",
      "{'name': 'Panama'}\n",
      "Panama\n",
      "-------------------\n"
     ]
    }
   ],
   "source": [
    "for child in root:\n",
    "    print(child.tag)\n",
    "    print(child.attrib)\n",
    "    print(child.attrib['name'])\n",
    "    print('-------------------')"
   ]
  },
  {
   "cell_type": "code",
   "execution_count": 5,
   "id": "33b86c9d",
   "metadata": {},
   "outputs": [
    {
     "name": "stdout",
     "output_type": "stream",
     "text": [
      "country\n",
      "{'name': 'Liechtenstein'}\n",
      "Liechtenstein\n",
      "-------\n",
      "rank\n",
      "1\n",
      "-------\n",
      "year\n",
      "2008\n",
      "-------\n",
      "gdppc\n",
      "141100\n",
      "-------\n",
      "neighbor\n",
      "None\n",
      "-------\n",
      "neighbor\n",
      "None\n",
      "-------------------\n",
      "country\n",
      "{'name': 'Singapore'}\n",
      "Singapore\n",
      "-------\n",
      "rank\n",
      "4\n",
      "-------\n",
      "year\n",
      "2011\n",
      "-------\n",
      "gdppc\n",
      "59900\n",
      "-------\n",
      "neighbor\n",
      "None\n",
      "-------------------\n",
      "country\n",
      "{'name': 'Panama'}\n",
      "Panama\n",
      "-------\n",
      "rank\n",
      "68\n",
      "-------\n",
      "year\n",
      "2011\n",
      "-------\n",
      "gdppc\n",
      "13600\n",
      "-------\n",
      "neighbor\n",
      "None\n",
      "-------\n",
      "neighbor\n",
      "None\n",
      "-------------------\n"
     ]
    }
   ],
   "source": [
    "for child in root:\n",
    "    print(child.tag)\n",
    "    print(child.attrib)\n",
    "    print(child.attrib['name'])\n",
    "    for gra_child in child:\n",
    "        print('-------')\n",
    "        print(gra_child.tag) \n",
    "        print(gra_child.text)\n",
    "    print('-------------------')"
   ]
  },
  {
   "cell_type": "code",
   "execution_count": 6,
   "id": "ef1115f9",
   "metadata": {},
   "outputs": [
    {
     "name": "stdout",
     "output_type": "stream",
     "text": [
      "Liechtenstein\n",
      "1\n",
      "Singapore\n",
      "4\n",
      "Panama\n",
      "68\n"
     ]
    }
   ],
   "source": [
    "for child in root:\n",
    "    print(child.attrib['name'])\n",
    "    print(child.find(\"rank\").text)"
   ]
  },
  {
   "cell_type": "code",
   "execution_count": 7,
   "id": "1d5e77e5",
   "metadata": {},
   "outputs": [
    {
     "name": "stdout",
     "output_type": "stream",
     "text": [
      "{'account': 1, 'person': {'lastName': 'Jones', 'firstName': 'Joe', 'address': {'home': {'street': '15 Elm', 'city': 'Lakeville', 'zip': '12345'}, 'work': {'street': '12 Main', 'city': 'Lakeville', 'zip': '12345'}}, 'phone': {'home': '800-555-1234', 'work': '877-123-4567'}}}\n"
     ]
    }
   ],
   "source": [
    "import json\n",
    "js = open('sample.json','r')\n",
    "data = json.load(js)\n",
    "print(data)"
   ]
  },
  {
   "cell_type": "code",
   "execution_count": 19,
   "id": "6477a625",
   "metadata": {},
   "outputs": [
    {
     "name": "stdout",
     "output_type": "stream",
     "text": [
      "*  Joe\n",
      "*  12 Main\n",
      "*  {'home': '800-555-1234', 'work': '877-123-4567'}\n"
     ]
    }
   ],
   "source": [
    "print('* ', data['person']['firstName'])\n",
    "print('* ', data['person']['address']['work']['street'])\n",
    "print('* ', data['person']['phone'])"
   ]
  },
  {
   "cell_type": "code",
   "execution_count": 21,
   "id": "dfa476c5",
   "metadata": {},
   "outputs": [
    {
     "name": "stdout",
     "output_type": "stream",
     "text": [
      "           Score  floor             field\n",
      "Toyota        60      6      data science\n",
      "Nakajima      70      6       multi-agent\n",
      "Wagatsuma     80      5    neural network\n",
      "Shiraishi     90      4   computer vision\n",
      "Sudo          90      4  image processing\n",
      "Sato         100      5           network\n"
     ]
    }
   ],
   "source": [
    "import pandas as pd\n",
    "json_file=open('sample2.json','r')\n",
    "df = pd.read_json(json_file)\n",
    "print(df)"
   ]
  },
  {
   "cell_type": "code",
   "execution_count": 47,
   "id": "53279593",
   "metadata": {},
   "outputs": [
    {
     "name": "stdout",
     "output_type": "stream",
     "text": [
      "           総人口  15歳未満人口    転入者数    転出者数\n",
      "茨城県    2860000   342000   44371   48876\n",
      "栃木県    1934000   235000   30136   33654\n",
      "群馬県    1942000   232000   26218   30302\n",
      "埼玉県    7350000   881000  165369  147406\n",
      "千葉県    6259000   739000  146240  129053\n",
      "東京都   13921000  1553000  427307  340732\n",
      "神奈川県   9198000  1099000  214726  190875\n"
     ]
    }
   ],
   "source": [
    "population_file = open('stat.json', 'r')\n",
    "df = pd.read_json(population_file)\n",
    "print(df)"
   ]
  },
  {
   "cell_type": "code",
   "execution_count": 51,
   "id": "1770e6f7",
   "metadata": {},
   "outputs": [
    {
     "name": "stdout",
     "output_type": "stream",
     "text": [
      "人口の平均:  6209142.857142857\n"
     ]
    }
   ],
   "source": [
    "print('人口の平均: ', df['総人口'].mean())"
   ]
  },
  {
   "cell_type": "code",
   "execution_count": 63,
   "id": "2751769b",
   "metadata": {},
   "outputs": [
    {
     "name": "stdout",
     "output_type": "stream",
     "text": [
      "15歳未満の人口の割合\n",
      "2860000\n",
      "1934000\n",
      "1942000\n",
      "7350000\n",
      "6259000\n",
      "13921000\n",
      "9198000\n"
     ]
    }
   ],
   "source": [
    "print('15歳未満の人口の割合')\n",
    "print('茨城県: ', df['15歳未満人口']['茨城県'] / df['総人口']['茨城県'])\n",
    "print('栃木県: ', df['15歳未満人口']['栃木県'] / df['総人口']['栃木県'])\n",
    "print('群馬県: ', df['15歳未満人口']['群馬県'] / df['総人口']['群馬県'])\n",
    "print('埼玉県: ', df['15歳未満人口']['埼玉県'] / df['総人口']['埼玉県'])\n",
    "print('千葉県: ', df['15歳未満人口']['千葉県'] / df['総人口']['千葉県'])\n",
    "print('東京都: ', df['15歳未満人口']['東京都'] / df['総人口']['東京都'])\n",
    "print('神奈川県: ', df['15歳未満人口']['神奈川県'] / df['総人口']['神奈川県'])"
   ]
  },
  {
   "cell_type": "code",
   "execution_count": 64,
   "id": "28d74fe1",
   "metadata": {},
   "outputs": [
    {
     "name": "stdout",
     "output_type": "stream",
     "text": [
      "増減数\n",
      "茨城県:  -4505\n",
      "栃木県:  -3518\n",
      "群馬県:  -4084\n",
      "埼玉県:  17963\n",
      "千葉県:  17187\n",
      "東京都:  86575\n",
      "神奈川県:  23851\n"
     ]
    }
   ],
   "source": [
    "print('増減数')\n",
    "print('茨城県: ', df['転入者数']['茨城県'] - df['転出者数']['茨城県'])\n",
    "print('栃木県: ', df['転入者数']['栃木県'] - df['転出者数']['栃木県'])\n",
    "print('群馬県: ', df['転入者数']['群馬県'] - df['転出者数']['群馬県'])\n",
    "print('埼玉県: ', df['転入者数']['埼玉県'] - df['転出者数']['埼玉県'])\n",
    "print('千葉県: ', df['転入者数']['千葉県'] - df['転出者数']['千葉県'])\n",
    "print('東京都: ', df['転入者数']['東京都'] - df['転出者数']['東京都'])\n",
    "print('神奈川県: ', df['転入者数']['神奈川県'] - df['転出者数']['神奈川県'])"
   ]
  },
  {
   "cell_type": "code",
   "execution_count": null,
   "id": "8363defe",
   "metadata": {},
   "outputs": [],
   "source": []
  },
  {
   "cell_type": "code",
   "execution_count": null,
   "id": "ac641a23",
   "metadata": {},
   "outputs": [],
   "source": []
  },
  {
   "cell_type": "code",
   "execution_count": null,
   "id": "13aa144a",
   "metadata": {},
   "outputs": [],
   "source": []
  },
  {
   "cell_type": "code",
   "execution_count": null,
   "id": "0793619b",
   "metadata": {},
   "outputs": [],
   "source": []
  },
  {
   "cell_type": "code",
   "execution_count": null,
   "id": "c5108345",
   "metadata": {},
   "outputs": [],
   "source": []
  },
  {
   "cell_type": "code",
   "execution_count": null,
   "id": "eb92589d",
   "metadata": {},
   "outputs": [],
   "source": []
  },
  {
   "cell_type": "code",
   "execution_count": null,
   "id": "3815a71b",
   "metadata": {},
   "outputs": [],
   "source": []
  },
  {
   "cell_type": "code",
   "execution_count": null,
   "id": "45a2691a",
   "metadata": {},
   "outputs": [],
   "source": []
  },
  {
   "cell_type": "code",
   "execution_count": null,
   "id": "c8fa312e",
   "metadata": {},
   "outputs": [],
   "source": []
  },
  {
   "cell_type": "code",
   "execution_count": null,
   "id": "c99adc06",
   "metadata": {},
   "outputs": [],
   "source": []
  },
  {
   "cell_type": "code",
   "execution_count": null,
   "id": "648a578c",
   "metadata": {},
   "outputs": [],
   "source": []
  },
  {
   "cell_type": "code",
   "execution_count": null,
   "id": "64cc67ad",
   "metadata": {},
   "outputs": [],
   "source": []
  },
  {
   "cell_type": "code",
   "execution_count": null,
   "id": "2c040b85",
   "metadata": {},
   "outputs": [],
   "source": []
  },
  {
   "cell_type": "code",
   "execution_count": null,
   "id": "af0042f8",
   "metadata": {},
   "outputs": [],
   "source": []
  }
 ],
 "metadata": {
  "kernelspec": {
   "display_name": "Python 3 (ipykernel)",
   "language": "python",
   "name": "python3"
  },
  "language_info": {
   "codemirror_mode": {
    "name": "ipython",
    "version": 3
   },
   "file_extension": ".py",
   "mimetype": "text/x-python",
   "name": "python",
   "nbconvert_exporter": "python",
   "pygments_lexer": "ipython3",
   "version": "3.7.13"
  }
 },
 "nbformat": 4,
 "nbformat_minor": 5
}
